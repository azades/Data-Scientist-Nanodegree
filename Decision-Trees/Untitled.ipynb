{
 "cells": [
  {
   "cell_type": "code",
   "execution_count": 11,
   "metadata": {},
   "outputs": [],
   "source": [
    "def twoSum(nums, target):\n",
    "    val_to_index = {}\n",
    "    for i in range(len(nums)):\n",
    "        if target - nums[i] in val_to_index:\n",
    "            return [val_to_index[target - nums[i]], i]\n",
    "        val_to_index[nums[i]] = i\n",
    "        print(val_to_index)\n",
    "    return [-1, -1]"
   ]
  },
  {
   "cell_type": "code",
   "execution_count": 15,
   "metadata": {},
   "outputs": [
    {
     "name": "stdout",
     "output_type": "stream",
     "text": [
      "{8: 0}\n",
      "{8: 0, 3: 1}\n",
      "{8: 0, 3: 2}\n",
      "{8: 0, 3: 2, 4: 3}\n",
      "{8: 0, 3: 2, 4: 3, 5: 4}\n",
      "{8: 0, 3: 2, 4: 3, 5: 4, 10: 5}\n"
     ]
    },
    {
     "data": {
      "text/plain": [
       "[4, 6]"
      ]
     },
     "execution_count": 15,
     "metadata": {},
     "output_type": "execute_result"
    }
   ],
   "source": [
    "nums = [8,3,3,4,5,10,5,2]\n",
    "target = 10\n",
    "twoSum(nums, target)"
   ]
  },
  {
   "cell_type": "code",
   "execution_count": null,
   "metadata": {},
   "outputs": [],
   "source": []
  }
 ],
 "metadata": {
  "kernelspec": {
   "display_name": "Python [conda env:anaconda3]",
   "language": "python",
   "name": "conda-env-anaconda3-py"
  },
  "language_info": {
   "codemirror_mode": {
    "name": "ipython",
    "version": 3
   },
   "file_extension": ".py",
   "mimetype": "text/x-python",
   "name": "python",
   "nbconvert_exporter": "python",
   "pygments_lexer": "ipython3",
   "version": "3.6.4"
  }
 },
 "nbformat": 4,
 "nbformat_minor": 2
}
